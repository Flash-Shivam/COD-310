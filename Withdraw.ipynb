{
 "cells": [
  {
   "cell_type": "code",
   "execution_count": 1,
   "metadata": {},
   "outputs": [],
   "source": [
    "import numpy as np\n",
    "from numpy.random import seed\n",
    "from numpy.random import randint\n",
    "from help import modinv"
   ]
  },
  {
   "cell_type": "code",
   "execution_count": 2,
   "metadata": {},
   "outputs": [
    {
     "name": "stdout",
     "output_type": "stream",
     "text": [
      "5\n",
      "10\n"
     ]
    }
   ],
   "source": [
    "number_of_coins = int(input())\n",
    "value_of_coin = int(input())"
   ]
  },
  {
   "cell_type": "code",
   "execution_count": 3,
   "metadata": {},
   "outputs": [],
   "source": [
    "coins = []\n",
    "blinding_factors = []\n",
    "higher_bound = int(pow(2,number_of_coins))\n",
    "\n",
    "for i in range(0,number_of_coins):\n",
    "    v = value_of_coin\n",
    "    seed(i)\n",
    "    serial_number = randint(0,higher_bound,1)\n",
    "    coins.append((v,serial_number[0]))\n",
    "    b = randint(0,int(pow(2,serial_number)),1)\n",
    "    blinding_factors.append(b[0])"
   ]
  },
  {
   "cell_type": "code",
   "execution_count": 4,
   "metadata": {},
   "outputs": [
    {
     "name": "stdout",
     "output_type": "stream",
     "text": [
      "[(10, 12), (10, 5), (10, 8), (10, 10), (10, 26)]\n"
     ]
    }
   ],
   "source": [
    "print(coins)"
   ]
  },
  {
   "cell_type": "code",
   "execution_count": 5,
   "metadata": {},
   "outputs": [
    {
     "name": "stdout",
     "output_type": "stream",
     "text": [
      "[2607, 11, 15, 664, 42934446]\n"
     ]
    }
   ],
   "source": [
    "print(blinding_factors)"
   ]
  },
  {
   "cell_type": "code",
   "execution_count": 6,
   "metadata": {},
   "outputs": [],
   "source": [
    "e = 146416847875294856129\n",
    "n = 6637563770516126370701"
   ]
  },
  {
   "cell_type": "code",
   "execution_count": 7,
   "metadata": {},
   "outputs": [],
   "source": [
    "blind_coins = []\n",
    "\n",
    "for i in range(0,number_of_coins):\n",
    "    x,y = coins[i]\n",
    "    x = (x*(pow(blinding_factors[i],e,n)))%n\n",
    "    y = (y*(pow(blinding_factors[i],e,n)))%n\n",
    "    blind_coins.append((x,y))"
   ]
  },
  {
   "cell_type": "code",
   "execution_count": 8,
   "metadata": {},
   "outputs": [
    {
     "name": "stdout",
     "output_type": "stream",
     "text": [
      "[(171155161501961302409L, 1532898947905578837031L), (5746758713679769955927L, 6192161242097948163314L), (4921310775211956777347L, 6592074128376015970158L), (3931571878403185964753L, 3931571878403185964753L), (5860637146545096786633L, 3290041794088224177984L)]\n"
     ]
    }
   ],
   "source": [
    "print(blind_coins)"
   ]
  },
  {
   "cell_type": "code",
   "execution_count": 9,
   "metadata": {},
   "outputs": [],
   "source": [
    "k = 2\n",
    "uncheked_coin = blind_coins[k]"
   ]
  },
  {
   "cell_type": "code",
   "execution_count": 10,
   "metadata": {},
   "outputs": [],
   "source": [
    "coins_to_be_checked = []\n",
    "corresponding_blinding_factors = []\n",
    "for i in range(0,number_of_coins):\n",
    "    if i != k:\n",
    "        coins_to_be_checked.append(blind_coins[i])\n",
    "        corresponding_blinding_factors.append(blinding_factors[i])\n"
   ]
  },
  {
   "cell_type": "code",
   "execution_count": 11,
   "metadata": {},
   "outputs": [
    {
     "name": "stdout",
     "output_type": "stream",
     "text": [
      "[(171155161501961302409L, 1532898947905578837031L), (5746758713679769955927L, 6192161242097948163314L), (3931571878403185964753L, 3931571878403185964753L), (5860637146545096786633L, 3290041794088224177984L)]\n"
     ]
    }
   ],
   "source": [
    "print(coins_to_be_checked)"
   ]
  },
  {
   "cell_type": "code",
   "execution_count": 12,
   "metadata": {},
   "outputs": [
    {
     "name": "stdout",
     "output_type": "stream",
     "text": [
      "[2607, 11, 664, 42934446]\n"
     ]
    }
   ],
   "source": [
    "print(corresponding_blinding_factors)"
   ]
  },
  {
   "cell_type": "code",
   "execution_count": 13,
   "metadata": {},
   "outputs": [],
   "source": [
    "d = modinv(e,6637563770346700144512)"
   ]
  },
  {
   "cell_type": "code",
   "execution_count": 14,
   "metadata": {},
   "outputs": [],
   "source": [
    "phi = (61502172576)*(107924053612)"
   ]
  },
  {
   "cell_type": "code",
   "execution_count": 15,
   "metadata": {},
   "outputs": [
    {
     "name": "stdout",
     "output_type": "stream",
     "text": [
      "6637563770346700144512\n"
     ]
    }
   ],
   "source": [
    "print(phi)"
   ]
  },
  {
   "cell_type": "code",
   "execution_count": 16,
   "metadata": {},
   "outputs": [],
   "source": [
    "val = []\n",
    "for i in range(0,len(coins_to_be_checked)):\n",
    "    x,y = coins_to_be_checked[i]\n",
    "    b = corresponding_blinding_factors[i]\n",
    "    b = pow(b,e,n)\n",
    "    x = (x*modinv(b,n))%n\n",
    "    if x != value_of_coin:\n",
    "        print(\"False Value of Coin\")\n",
    "    val.append(x)"
   ]
  },
  {
   "cell_type": "code",
   "execution_count": 17,
   "metadata": {},
   "outputs": [
    {
     "name": "stdout",
     "output_type": "stream",
     "text": [
      "[10L, 10L, 10L, 10L]\n"
     ]
    }
   ],
   "source": [
    "print(val)"
   ]
  },
  {
   "cell_type": "code",
   "execution_count": 18,
   "metadata": {},
   "outputs": [],
   "source": [
    "v,serial_num = uncheked_coin\n",
    "sign_v = pow(v,d,n)\n",
    "sign_serial_num = pow(serial_num,d,n)\n",
    "signed_blind_coin = (sign_v,sign_serial_num)"
   ]
  },
  {
   "cell_type": "code",
   "execution_count": 19,
   "metadata": {},
   "outputs": [
    {
     "name": "stdout",
     "output_type": "stream",
     "text": [
      "(1576198102302631402420L, 33776997205278720L)\n"
     ]
    }
   ],
   "source": [
    "print(signed_blind_coin)"
   ]
  },
  {
   "cell_type": "code",
   "execution_count": 20,
   "metadata": {},
   "outputs": [
    {
     "name": "stdout",
     "output_type": "stream",
     "text": [
      "(4921310775211956777347L, 6592074128376015970158L)\n"
     ]
    }
   ],
   "source": [
    "print(uncheked_coin)"
   ]
  },
  {
   "cell_type": "code",
   "execution_count": 21,
   "metadata": {},
   "outputs": [],
   "source": [
    "sign_v = (sign_v*modinv(blinding_factors[k],n))%n\n",
    "sign_serial_num = (sign_serial_num*modinv(blinding_factors[k],n))%n\n",
    "signed_coin = (sign_v,sign_serial_num)"
   ]
  },
  {
   "cell_type": "code",
   "execution_count": 22,
   "metadata": {},
   "outputs": [
    {
     "name": "stdout",
     "output_type": "stream",
     "text": [
      "(4530122387164259673962L, 2251799813685248L)\n"
     ]
    }
   ],
   "source": [
    "print(signed_coin)"
   ]
  },
  {
   "cell_type": "code",
   "execution_count": 23,
   "metadata": {},
   "outputs": [],
   "source": [
    "x,y = coins[k]"
   ]
  },
  {
   "cell_type": "code",
   "execution_count": 24,
   "metadata": {},
   "outputs": [
    {
     "name": "stdout",
     "output_type": "stream",
     "text": [
      "(10, 8)\n"
     ]
    }
   ],
   "source": [
    "print(coins[k])"
   ]
  },
  {
   "cell_type": "code",
   "execution_count": 25,
   "metadata": {},
   "outputs": [],
   "source": [
    "x = pow(x,d,n)\n",
    "y = pow(y,d,n)\n",
    "sign_on_real_coin = (x,y)"
   ]
  },
  {
   "cell_type": "code",
   "execution_count": 26,
   "metadata": {},
   "outputs": [
    {
     "name": "stdout",
     "output_type": "stream",
     "text": [
      "(4530122387164259673962L, 2251799813685248L)\n"
     ]
    }
   ],
   "source": [
    "print(sign_on_real_coin)"
   ]
  },
  {
   "cell_type": "code",
   "execution_count": 27,
   "metadata": {},
   "outputs": [
    {
     "name": "stdout",
     "output_type": "stream",
     "text": [
      "Successfully Withdrawn\n"
     ]
    }
   ],
   "source": [
    "if sign_on_real_coin == signed_coin:\n",
    "    print(\"Successfully Withdrawn\")\n",
    "else:\n",
    "    print(\"Error in withdrawl\")"
   ]
  }
 ],
 "metadata": {
  "kernelspec": {
   "display_name": "Python 2",
   "language": "python",
   "name": "python2"
  },
  "language_info": {
   "codemirror_mode": {
    "name": "ipython",
    "version": 2
   },
   "file_extension": ".py",
   "mimetype": "text/x-python",
   "name": "python",
   "nbconvert_exporter": "python",
   "pygments_lexer": "ipython2",
   "version": "2.7.17"
  }
 },
 "nbformat": 4,
 "nbformat_minor": 2
}
